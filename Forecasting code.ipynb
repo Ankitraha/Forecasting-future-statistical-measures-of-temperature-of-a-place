{
 "cells": [
  {
   "cell_type": "code",
   "execution_count": 1,
   "id": "d5bff5e3",
   "metadata": {},
   "outputs": [
    {
     "name": "stdout",
     "output_type": "stream",
     "text": [
      "yes\n",
      "yes\n",
      "yes\n",
      "yes\n",
      "yes\n",
      "yes\n",
      "yes\n",
      "yes\n"
     ]
    }
   ],
   "source": [
    "import pandas as pd\n",
    "import os\n",
    "\n",
    "# specify the folder containing the CSV files\n",
    "folder = 'Telangana weather'\n",
    "\n",
    "# specify the name of the new CSV file\n",
    "new_file = 'adilabad.csv'\n",
    "\n",
    "# list to hold the data frames from each CSV file\n",
    "df_list = []\n",
    "\n",
    "# list of month names in the correct order\n",
    "months = ['January', 'February', 'March', 'April', 'May', 'June', 'July', 'August', 'September']\n",
    "\n",
    "# loop through each month name\n",
    "for month in months:\n",
    "    # construct the file name for the CSV file for that month\n",
    "    file = f\"TS Weather data {month} 2022.csv\"\n",
    "    file_path = os.path.join(folder, file)\n",
    "    # check if the file exists\n",
    "    if os.path.exists(file_path):\n",
    "        print(\"yes\")\n",
    "        # read the CSV file into a data frame\n",
    "        df = pd.read_csv(file_path)\n",
    "        # select only the rows where the district is 'Adilabad' and the mandal is 'Adilabad rural'\n",
    "        df = df[(df['District'] == 'Adilabad') & (df['Mandal'] == 'Adilabad Rural')]\n",
    "        # add the filtered data frame to the list\n",
    "        df_list.append(df)\n",
    "\n",
    "# concatenate all the data frames into a single data frame\n",
    "result = pd.concat(df_list)\n",
    "\n",
    "# write the result to a new CSV file\n",
    "result.to_csv(new_file, index=False)"
   ]
  },
  {
   "cell_type": "code",
   "execution_count": 2,
   "id": "4622ad1f",
   "metadata": {},
   "outputs": [],
   "source": [
    "import pandas as pd\n",
    "\n",
    "# Read the \"adilabad.csv\" file\n",
    "df = pd.read_csv('adilabad.csv')\n",
    "\n",
    "# Calculate the mean temperature and add it as a new column\n",
    "df['Mean Temp (°C)'] = (df['Max Temp (°C)'] + df['Min Temp (°C)']) / 2\n",
    "\n",
    "# Write the updated data frame to a new CSV file\n",
    "df.to_csv('adilabad_mean_temp.csv', index=False)"
   ]
  },
  {
   "cell_type": "code",
   "execution_count": 3,
   "id": "fca58113",
   "metadata": {},
   "outputs": [
    {
     "name": "stdout",
     "output_type": "stream",
     "text": [
      "1/1 [==============================] - 0s 266ms/step\n",
      "R-squared: -0.30592347103941875\n"
     ]
    }
   ],
   "source": [
    "import numpy as np\n",
    "import pandas as pd\n",
    "from keras.models import Sequential\n",
    "from keras.layers import LSTM, Dense\n",
    "from sklearn.preprocessing import MinMaxScaler\n",
    "from sklearn.metrics import *\n",
    "\n",
    "# Load the data into a pandas DataFrame\n",
    "df = pd.read_csv('adilabad_mean_temp.csv')\n",
    "\n",
    "# Normalize the temperature values using MinMaxScaler\n",
    "temp_cols = ['Min Temp (°C)', 'Max Temp (°C)', 'Mean Temp (°C)']\n",
    "scaler = MinMaxScaler(feature_range=(0, 1))\n",
    "df[temp_cols] = scaler.fit_transform(df[temp_cols])\n",
    "\n",
    "# Convert the DataFrame into a numpy array for input into the LSTM model\n",
    "data = df[temp_cols].values\n",
    "\n",
    "# Define the number of time steps and number of features\n",
    "timesteps = 100\n",
    "n_features = 3\n",
    "\n",
    "# Create the input and output data for the LSTM model\n",
    "X, y = [], []\n",
    "for i in range(timesteps, len(data)):\n",
    "    X.append(data[i-timesteps:i, :])\n",
    "    y.append(data[i, :])\n",
    "X, y = np.array(X), np.array(y)\n",
    "\n",
    "# Split the data into training and test sets\n",
    "train_size = int(len(X) * 0.9)\n",
    "X_train, X_test = X[:train_size, :, :], X[train_size:, :, :]\n",
    "y_train, y_test = y[:train_size, :], y[train_size:, :]\n",
    "\n",
    "# Define the LSTM model\n",
    "model = Sequential()\n",
    "model.add(LSTM(100, input_shape=(timesteps, n_features)))\n",
    "model.add(Dense(n_features))\n",
    "model.compile(loss='mean_squared_error', optimizer='adam')\n",
    "\n",
    "# Train the LSTM model\n",
    "model.fit(X_train, y_train, epochs=100, batch_size=32, verbose=0)\n",
    "\n",
    "# Use the trained LSTM model to make predictions\n",
    "y_pred = model.predict(X_test)\n",
    "\n",
    "# Inverse transform the predictions to the original scale\n",
    "y_pred_scaled = scaler.inverse_transform(y_pred)\n",
    "y_test_scaled = scaler.inverse_transform(y_test)\n",
    "# Calculate the R-squared score for mean temperature\n",
    "r2 = r2_score(y_test_scaled[:, 2], y_pred_scaled[:, 2])\n",
    "print(\"R-squared:\", r2)"
   ]
  },
  {
   "cell_type": "code",
   "execution_count": 4,
   "id": "a3c99043",
   "metadata": {},
   "outputs": [
    {
     "name": "stdout",
     "output_type": "stream",
     "text": [
      "datetime64[ns]\n"
     ]
    }
   ],
   "source": [
    " #Convert the dates in the original DataFrame to a datetime format\n",
    "df['Date'] = pd.to_datetime(df['Date'])\n",
    "print(df['Date'].dtype)\n",
    "# Create a DataFrame to store the actual and predicted values along with the corresponding date\n",
    "results = pd.DataFrame({'Date': df['Date'][-len(y_test_scaled):], \n",
    "                        'Actual Min Temp (°C)': y_test_scaled[:, 0], \n",
    "                        'Actual Max Temp (°C)': y_test_scaled[:, 1], \n",
    "                        'Actual Mean Temp (°C)': y_test_scaled[:, 2], \n",
    "                        'Predicted Min Temp (°C)': y_pred_scaled[:, 0], \n",
    "                        'Predicted Max Temp (°C)': y_pred_scaled[:, 1], \n",
    "                        'Predicted Mean Temp (°C)': y_pred_scaled[:, 2]})"
   ]
  },
  {
   "cell_type": "code",
   "execution_count": 5,
   "id": "215edcb4",
   "metadata": {},
   "outputs": [],
   "source": [
    "results['Date'] = results['Date'].astype(str)\n",
    "# Save the predictions to a CSV file\n",
    "results.to_csv('pred.csv', index=False)"
   ]
  },
  {
   "cell_type": "code",
   "execution_count": 6,
   "id": "1cffbaa3",
   "metadata": {},
   "outputs": [
    {
     "name": "stdout",
     "output_type": "stream",
     "text": [
      "object\n"
     ]
    }
   ],
   "source": [
    "print(results['Date'].dtype)"
   ]
  },
  {
   "cell_type": "code",
   "execution_count": 7,
   "id": "d89ae1c0",
   "metadata": {},
   "outputs": [],
   "source": [
    "# Create a DataFrame to store the actual and predicted values\n",
    "df_pred = pd.DataFrame(y_test_scaled, columns=temp_cols)\n",
    "df_pred['Min Temp (°C) Pred'] = y_pred_scaled[:, 0]\n",
    "df_pred['Max Temp (°C) Pred'] = y_pred_scaled[:, 1]\n",
    "df_pred['Mean Temp (°C) Pred'] = y_pred_scaled[:, 2]\n",
    "\n",
    "# Save the predictions to a CSV file\n",
    "df_pred.to_csv('pred.csv', index=False)"
   ]
  },
  {
   "cell_type": "code",
   "execution_count": 8,
   "id": "56488ac3",
   "metadata": {},
   "outputs": [
    {
     "name": "stdout",
     "output_type": "stream",
     "text": [
      "RMSE: 1.2364136019911254\n"
     ]
    }
   ],
   "source": [
    "import numpy as np\n",
    "import pandas as pd\n",
    "from sklearn.metrics import mean_squared_error, r2_score\n",
    "\n",
    "# Load the data from the \"pred.csv\" file into a pandas DataFrame\n",
    "pred = pd.read_csv(\"pred.csv\")\n",
    "\n",
    "# Extract the actual and predicted values for the \"Max Temp (°C)\" column\n",
    "actual = pred['Max Temp (°C)'].values\n",
    "predicted = pred['Max Temp (°C) Pred'].values\n",
    "\n",
    "# Calculate the root mean squared error (RMSE)\n",
    "mse = mean_squared_error(actual, predicted)\n",
    "rmse = np.sqrt(mse)\n",
    "print(\"RMSE:\", rmse)\n",
    "\n"
   ]
  },
  {
   "cell_type": "code",
   "execution_count": 9,
   "id": "5cb6a00b",
   "metadata": {},
   "outputs": [
    {
     "name": "stdout",
     "output_type": "stream",
     "text": [
      "RMSE: 1.1833096363002646\n"
     ]
    }
   ],
   "source": [
    "import numpy as np\n",
    "import pandas as pd\n",
    "from sklearn.metrics import mean_squared_error, r2_score\n",
    "\n",
    "# Load the data from the \"pred.csv\" file into a pandas DataFrame\n",
    "pred = pd.read_csv(\"pred.csv\")\n",
    "\n",
    "# Extract the actual and predicted values for the \"Max Temp (°C)\" column\n",
    "actual = pred['Min Temp (°C)'].values\n",
    "predicted = pred['Min Temp (°C) Pred'].values\n",
    "\n",
    "# Calculate the root mean squared error (RMSE)\n",
    "mse = mean_squared_error(actual, predicted)\n",
    "rmse = np.sqrt(mse)\n",
    "print(\"RMSE:\", rmse)\n"
   ]
  },
  {
   "cell_type": "code",
   "execution_count": 10,
   "id": "45618051",
   "metadata": {},
   "outputs": [
    {
     "name": "stdout",
     "output_type": "stream",
     "text": [
      "RMSE: 0.775307745326203\n"
     ]
    }
   ],
   "source": [
    "import numpy as np\n",
    "import pandas as pd\n",
    "from sklearn.metrics import mean_squared_error, r2_score\n",
    "\n",
    "# Load the data from the \"pred.csv\" file into a pandas DataFrame\n",
    "pred = pd.read_csv(\"pred.csv\")\n",
    "\n",
    "# Extract the actual and predicted values for the \"Max Temp (°C)\" column\n",
    "actual = pred['Mean Temp (°C)'].values\n",
    "predicted = pred['Mean Temp (°C) Pred'].values\n",
    "\n",
    "# Calculate the root mean squared error (RMSE)\n",
    "mse = mean_squared_error(actual, predicted)\n",
    "rmse = np.sqrt(mse)\n",
    "print(\"RMSE:\", rmse)\n"
   ]
  },
  {
   "cell_type": "code",
   "execution_count": null,
   "id": "b1eaa1a8",
   "metadata": {},
   "outputs": [],
   "source": []
  },
  {
   "cell_type": "code",
   "execution_count": null,
   "id": "ef4cbcc0",
   "metadata": {},
   "outputs": [],
   "source": []
  },
  {
   "cell_type": "code",
   "execution_count": null,
   "id": "f2f668ea",
   "metadata": {},
   "outputs": [],
   "source": []
  },
  {
   "cell_type": "code",
   "execution_count": null,
   "id": "5436fd9c",
   "metadata": {},
   "outputs": [],
   "source": []
  }
 ],
 "metadata": {
  "kernelspec": {
   "display_name": "Python 3 (ipykernel)",
   "language": "python",
   "name": "python3"
  },
  "language_info": {
   "codemirror_mode": {
    "name": "ipython",
    "version": 3
   },
   "file_extension": ".py",
   "mimetype": "text/x-python",
   "name": "python",
   "nbconvert_exporter": "python",
   "pygments_lexer": "ipython3",
   "version": "3.9.13"
  }
 },
 "nbformat": 4,
 "nbformat_minor": 5
}
